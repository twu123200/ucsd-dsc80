{
 "cells": [
  {
   "cell_type": "markdown",
   "metadata": {},
   "source": [
    "# NBA Playoffs\n",
    "* **See the main project notebook for instructions to be sure you satisfy the rubric!**\n",
    "* See project 03 for information on the dataset.\n",
    "* A few example prediction questions to pursue are listed below. However, don't limit yourself to them!\n",
    "    * Will a player/team make the playoffs this season? (try training on previous year!)\n",
    "    * Predict players' \"playoff performance\" based on the regular statistics.\n",
    "    * Guess the number of games a team will win in a season based on player statistics (need to aggregate statistics to a team-level).\n",
    "\n",
    "\n",
    "Be careful to justify what information you would know at the \"time of prediction\" and train your model using only those features."
   ]
  },
  {
   "cell_type": "markdown",
   "metadata": {},
   "source": [
    "---\n",
    "# Summary of Findings\n",
    "\n",
    "\n",
    "## Introduction\n",
    "---\n",
    "\n",
    "\n",
    "\n",
    "\n",
    "### Results: Baseline Model\n",
    "---\n",
    "\n",
    "\n",
    "\n",
    "### Results: Final Model\n",
    "---\n",
    "\n",
    "\n",
    "\n",
    "### Results: Fairness Evaluation\n",
    "---\n",
    "\n",
    "\n",
    "---"
   ]
  },
  {
   "cell_type": "markdown",
   "metadata": {},
   "source": [
    "# Your Code Starts Here"
   ]
  },
  {
   "cell_type": "code",
   "execution_count": 128,
   "metadata": {},
   "outputs": [],
   "source": [
    "%matplotlib inline\n",
    "import os\n",
    "\n",
    "import pandas as pd\n",
    "import numpy as np\n",
    "\n",
    "import matplotlib.pyplot as plot\n",
    "import seaborn as sns\n",
    "\n",
    "from sklearn.preprocessing import FunctionTransformer\n",
    "from sklearn.preprocessing import OneHotEncoder\n",
    "from sklearn.preprocessing import StandardScaler\n",
    "from sklearn.pipeline import Pipeline\n",
    "from sklearn.compose import ColumnTransformer\n",
    "\n",
    "from sklearn.model_selection import train_test_split\n",
    "from sklearn.ensemble import RandomForestClassifier\n",
    "\n",
    "from sklearn import metrics"
   ]
  },
  {
   "cell_type": "code",
   "execution_count": 129,
   "metadata": {},
   "outputs": [],
   "source": [
    "fp = os.path.join('data', 'basketball_data.csv')\n",
    "data = pd.read_csv(fp)"
   ]
  },
  {
   "cell_type": "code",
   "execution_count": 130,
   "metadata": {},
   "outputs": [
    {
     "name": "stdout",
     "output_type": "stream",
     "text": [
      "Original shape: (4223, 55)\n",
      "New shape: (3836, 55)\n"
     ]
    }
   ],
   "source": [
    "#get the shape of the original data to verify rows have been successfully dropped\n",
    "print(\"Original shape: \" + str(data.shape))\n",
    "\n",
    "cleaned = data.copy()\n",
    "#drop the rows with index where \"Tm\" is \"TOT\"\n",
    "cleaned.drop(cleaned.loc[cleaned['Tm'] == \"TOT\"].index, inplace = True)\n",
    "#get the new shape of the cleaner data to verify rows have been successfully dropped\n",
    "print(\"New shape: \" + str(cleaned.shape))\n",
    "\n",
    "#map data to the cleaner dataframe\n",
    "data = cleaned"
   ]
  },
  {
   "cell_type": "code",
   "execution_count": 131,
   "metadata": {},
   "outputs": [
    {
     "name": "stdout",
     "output_type": "stream",
     "text": [
      "Original shape: (3836, 55)\n",
      "New shape: (3836, 31)\n"
     ]
    }
   ],
   "source": [
    "#get the shape of the original data to verify rows have been successfully dropped\n",
    "print(\"Original shape: \" + str(data.shape))\n",
    "\n",
    "#get only the columns from the regular season\n",
    "cols = [c for c in data.columns if 'playoff' not in c]\n",
    "#add in the G_playoff column to our list of columns\n",
    "cols.append('G_playoff')\n",
    "#map the dataset to the dataframe containing only the columns of interest\n",
    "data = data[cols]\n",
    "\n",
    "#get the new shape of the cleaner data to verify rows have been successfully dropped\n",
    "print(\"New shape: \" + str(data.shape))"
   ]
  },
  {
   "cell_type": "code",
   "execution_count": 132,
   "metadata": {},
   "outputs": [
    {
     "name": "stdout",
     "output_type": "stream",
     "text": [
      "Original shape: (3836, 31)\n",
      "New shape: (3836, 26)\n"
     ]
    }
   ],
   "source": [
    "#get the shape of the original data to verify rows have been successfully dropped\n",
    "print(\"Original shape: \" + str(data.shape))\n",
    "\n",
    "#get only the columns from the regular season\n",
    "cols = [c for c in data.columns if '%' not in c]\n",
    "#map the dataset to the dataframe containing only the columns of interest\n",
    "data = data[cols]\n",
    "\n",
    "#get the new shape of the cleaner data to verify rows have been successfully dropped\n",
    "print(\"New shape: \" + str(data.shape))\n"
   ]
  },
  {
   "cell_type": "code",
   "execution_count": 146,
   "metadata": {},
   "outputs": [
    {
     "data": {
      "text/plain": [
       "Year               int64\n",
       "Pos               object\n",
       "Age                int64\n",
       "Tm                object\n",
       "G_reg_season       int64\n",
       "GS_reg_season      int64\n",
       "MP_reg_season      int64\n",
       "FG_reg_season      int64\n",
       "FGA_reg_season     int64\n",
       "3P_reg_season      int64\n",
       "3PA_reg_season     int64\n",
       "2P_reg_season      int64\n",
       "2PA_reg_season     int64\n",
       "FT_reg_season      int64\n",
       "FTA_reg_season     int64\n",
       "ORB_reg_season     int64\n",
       "DRB_reg_season     int64\n",
       "TRB_reg_season     int64\n",
       "AST_reg_season     int64\n",
       "STL_reg_season     int64\n",
       "BLK_reg_season     int64\n",
       "TOV_reg_season     int64\n",
       "PF_reg_season      int64\n",
       "PTS_reg_season     int64\n",
       "G_playoff          int64\n",
       "dtype: object"
      ]
     },
     "execution_count": 146,
     "metadata": {},
     "output_type": "execute_result"
    }
   ],
   "source": [
    "for col in data.columns:\n",
    "    if data[col].dtype == int:\n",
    "        data[col] = data[col].astype(np.float32)\n",
    "\n",
    "data.dtypes"
   ]
  },
  {
   "cell_type": "code",
   "execution_count": 137,
   "metadata": {},
   "outputs": [
    {
     "data": {
      "text/html": [
       "<div>\n",
       "<style scoped>\n",
       "    .dataframe tbody tr th:only-of-type {\n",
       "        vertical-align: middle;\n",
       "    }\n",
       "\n",
       "    .dataframe tbody tr th {\n",
       "        vertical-align: top;\n",
       "    }\n",
       "\n",
       "    .dataframe thead th {\n",
       "        text-align: right;\n",
       "    }\n",
       "</style>\n",
       "<table border=\"1\" class=\"dataframe\">\n",
       "  <thead>\n",
       "    <tr style=\"text-align: right;\">\n",
       "      <th></th>\n",
       "      <th>Year</th>\n",
       "      <th>Pos</th>\n",
       "      <th>Age</th>\n",
       "      <th>Tm</th>\n",
       "      <th>G_reg_season</th>\n",
       "      <th>GS_reg_season</th>\n",
       "      <th>MP_reg_season</th>\n",
       "      <th>FG_reg_season</th>\n",
       "      <th>FGA_reg_season</th>\n",
       "      <th>3P_reg_season</th>\n",
       "      <th>...</th>\n",
       "      <th>ORB_reg_season</th>\n",
       "      <th>DRB_reg_season</th>\n",
       "      <th>TRB_reg_season</th>\n",
       "      <th>AST_reg_season</th>\n",
       "      <th>STL_reg_season</th>\n",
       "      <th>BLK_reg_season</th>\n",
       "      <th>TOV_reg_season</th>\n",
       "      <th>PF_reg_season</th>\n",
       "      <th>PTS_reg_season</th>\n",
       "      <th>G_playoff</th>\n",
       "    </tr>\n",
       "  </thead>\n",
       "  <tbody>\n",
       "    <tr>\n",
       "      <th>0</th>\n",
       "      <td>2012</td>\n",
       "      <td>PF</td>\n",
       "      <td>25</td>\n",
       "      <td>HOU</td>\n",
       "      <td>8</td>\n",
       "      <td>0</td>\n",
       "      <td>63</td>\n",
       "      <td>7</td>\n",
       "      <td>16</td>\n",
       "      <td>0</td>\n",
       "      <td>...</td>\n",
       "      <td>5</td>\n",
       "      <td>17</td>\n",
       "      <td>22</td>\n",
       "      <td>1</td>\n",
       "      <td>0</td>\n",
       "      <td>2</td>\n",
       "      <td>2</td>\n",
       "      <td>13</td>\n",
       "      <td>21</td>\n",
       "      <td>0</td>\n",
       "    </tr>\n",
       "    <tr>\n",
       "      <th>1</th>\n",
       "      <td>2012</td>\n",
       "      <td>SG</td>\n",
       "      <td>26</td>\n",
       "      <td>DEN</td>\n",
       "      <td>62</td>\n",
       "      <td>62</td>\n",
       "      <td>2086</td>\n",
       "      <td>329</td>\n",
       "      <td>699</td>\n",
       "      <td>88</td>\n",
       "      <td>...</td>\n",
       "      <td>40</td>\n",
       "      <td>157</td>\n",
       "      <td>197</td>\n",
       "      <td>149</td>\n",
       "      <td>36</td>\n",
       "      <td>13</td>\n",
       "      <td>85</td>\n",
       "      <td>134</td>\n",
       "      <td>943</td>\n",
       "      <td>1</td>\n",
       "    </tr>\n",
       "    <tr>\n",
       "      <th>2</th>\n",
       "      <td>2012</td>\n",
       "      <td>PG</td>\n",
       "      <td>27</td>\n",
       "      <td>UTA</td>\n",
       "      <td>4</td>\n",
       "      <td>0</td>\n",
       "      <td>30</td>\n",
       "      <td>4</td>\n",
       "      <td>14</td>\n",
       "      <td>2</td>\n",
       "      <td>...</td>\n",
       "      <td>0</td>\n",
       "      <td>2</td>\n",
       "      <td>2</td>\n",
       "      <td>1</td>\n",
       "      <td>0</td>\n",
       "      <td>0</td>\n",
       "      <td>5</td>\n",
       "      <td>4</td>\n",
       "      <td>10</td>\n",
       "      <td>1</td>\n",
       "    </tr>\n",
       "    <tr>\n",
       "      <th>3</th>\n",
       "      <td>2012</td>\n",
       "      <td>C</td>\n",
       "      <td>23</td>\n",
       "      <td>TOR</td>\n",
       "      <td>14</td>\n",
       "      <td>0</td>\n",
       "      <td>122</td>\n",
       "      <td>13</td>\n",
       "      <td>36</td>\n",
       "      <td>0</td>\n",
       "      <td>...</td>\n",
       "      <td>15</td>\n",
       "      <td>32</td>\n",
       "      <td>47</td>\n",
       "      <td>3</td>\n",
       "      <td>2</td>\n",
       "      <td>9</td>\n",
       "      <td>5</td>\n",
       "      <td>11</td>\n",
       "      <td>33</td>\n",
       "      <td>0</td>\n",
       "    </tr>\n",
       "    <tr>\n",
       "      <th>4</th>\n",
       "      <td>2012</td>\n",
       "      <td>C</td>\n",
       "      <td>23</td>\n",
       "      <td>OKC</td>\n",
       "      <td>26</td>\n",
       "      <td>0</td>\n",
       "      <td>173</td>\n",
       "      <td>22</td>\n",
       "      <td>42</td>\n",
       "      <td>0</td>\n",
       "      <td>...</td>\n",
       "      <td>13</td>\n",
       "      <td>35</td>\n",
       "      <td>48</td>\n",
       "      <td>3</td>\n",
       "      <td>8</td>\n",
       "      <td>16</td>\n",
       "      <td>9</td>\n",
       "      <td>22</td>\n",
       "      <td>57</td>\n",
       "      <td>1</td>\n",
       "    </tr>\n",
       "  </tbody>\n",
       "</table>\n",
       "<p>5 rows × 25 columns</p>\n",
       "</div>"
      ],
      "text/plain": [
       "   Year Pos  Age   Tm  G_reg_season  GS_reg_season  MP_reg_season  \\\n",
       "0  2012  PF   25  HOU             8              0             63   \n",
       "1  2012  SG   26  DEN            62             62           2086   \n",
       "2  2012  PG   27  UTA             4              0             30   \n",
       "3  2012   C   23  TOR            14              0            122   \n",
       "4  2012   C   23  OKC            26              0            173   \n",
       "\n",
       "   FG_reg_season  FGA_reg_season  3P_reg_season  ...  ORB_reg_season  \\\n",
       "0              7              16              0  ...               5   \n",
       "1            329             699             88  ...              40   \n",
       "2              4              14              2  ...               0   \n",
       "3             13              36              0  ...              15   \n",
       "4             22              42              0  ...              13   \n",
       "\n",
       "   DRB_reg_season  TRB_reg_season  AST_reg_season  STL_reg_season  \\\n",
       "0              17              22               1               0   \n",
       "1             157             197             149              36   \n",
       "2               2               2               1               0   \n",
       "3              32              47               3               2   \n",
       "4              35              48               3               8   \n",
       "\n",
       "   BLK_reg_season  TOV_reg_season  PF_reg_season  PTS_reg_season  G_playoff  \n",
       "0               2               2             13              21          0  \n",
       "1              13              85            134             943          1  \n",
       "2               0               5              4              10          1  \n",
       "3               9               5             11              33          0  \n",
       "4              16               9             22              57          1  \n",
       "\n",
       "[5 rows x 25 columns]"
      ]
     },
     "execution_count": 137,
     "metadata": {},
     "output_type": "execute_result"
    }
   ],
   "source": [
    "binary = data['G_playoff'].apply(lambda x: 1 if x > 0 else 0)\n",
    "data = data.drop(['G_playoff', 'Player'], axis = 1)\n",
    "data['G_playoff'] = binary\n",
    "data.head()"
   ]
  },
  {
   "cell_type": "markdown",
   "metadata": {},
   "source": [
    "### Results: Baseline Model\n",
    "---"
   ]
  },
  {
   "cell_type": "code",
   "execution_count": 147,
   "metadata": {},
   "outputs": [],
   "source": [
    "#split the data 80-20\n",
    "X_train, X_test, y_train, y_test = train_test_split(data.drop(\"G_playoff\", axis = 1), data.G_playoff, test_size = .2) "
   ]
  },
  {
   "cell_type": "code",
   "execution_count": null,
   "metadata": {},
   "outputs": [],
   "source": []
  },
  {
   "cell_type": "code",
   "execution_count": 191,
   "metadata": {},
   "outputs": [],
   "source": [
    "#columns for categorical transformation\n",
    "to_ohe = ['Pos', 'Tm']\n",
    "ohe_transformer = Pipeline([('one-hot', OneHotEncoder())])\n",
    "\n",
    "#put transformers into a column transformer\n",
    "preprocessor = ColumnTransformer(transformers = [('cat', ohe_transformer, to_ohe)], \n",
    "                                 remainder = 'passthrough')\n",
    "\n",
    "#make and fit the baseline pipeline\n",
    "baseline_pl = Pipeline([('preprocess', preprocessor), \n",
    "                        ('cls', RandomForestClassifier(n_estimators=3))])\n",
    "baseline_pl.fit(X_train, y_train)\n",
    "\n",
    "#predict whether or not a player is in the playoffs\n",
    "pred = baseline_pl.predict(X_test)\n"
   ]
  },
  {
   "cell_type": "code",
   "execution_count": 192,
   "metadata": {},
   "outputs": [
    {
     "data": {
      "text/plain": [
       "'approximately 70.31% correctly classified'"
      ]
     },
     "metadata": {},
     "output_type": "display_data"
    }
   ],
   "source": [
    "#show the percentage we got correct\n",
    "display('approximately '+ \n",
    "        str(round(metrics.accuracy_score(y_test, pred) * 100, 2)) + \n",
    "        '% correctly classified')\n"
   ]
  },
  {
   "cell_type": "code",
   "execution_count": 193,
   "metadata": {},
   "outputs": [
    {
     "data": {
      "text/plain": [
       "'current F1 score: 0.5928571428571429'"
      ]
     },
     "metadata": {},
     "output_type": "display_data"
    }
   ],
   "source": [
    "#get the precision and recall of our model\n",
    "baseline_precision = metrics.precision_score(y_test, pred)\n",
    "baseline_recall = metrics.recall_score(y_test, pred)\n",
    "\n",
    "baseline_f1 = 2 * ((baseline_precision * baseline_recall) / (baseline_precision + baseline_recall))\n",
    "display('current F1 score: '+ str(baseline_f1))\n"
   ]
  },
  {
   "cell_type": "markdown",
   "metadata": {},
   "source": [
    "### Results: Final Model\n",
    "---"
   ]
  },
  {
   "cell_type": "code",
   "execution_count": 184,
   "metadata": {},
   "outputs": [],
   "source": [
    "from sklearn.base import BaseEstimator, TransformerMixin\n",
    "class StdScalerYr(BaseEstimator, TransformerMixin):\n",
    "    \n",
    "    def __init__(self):\n",
    "        pass\n",
    "    \n",
    "    def fit(self, X, y=None):\n",
    "        # X may not be a pandas dataframe (e.g. a np.array)\n",
    "        df = pd.DataFrame(X)\n",
    "        \n",
    "        # A dictionary of means/standard-deviations for each column, for each group.\n",
    "        self.grps_ = df.groupby('Year').agg(['std', 'mean']).to_dict()\n",
    "        return self\n",
    "    \n",
    "    def transform(self, X, y=None):\n",
    "        #check if the transformer has been fit\n",
    "        try:\n",
    "            getattr(self, \"grps_\")\n",
    "        except AttributeError:\n",
    "            raise RuntimeError(\"You must fit the transformer before tranforming the data!\")\n",
    "        \n",
    "\n",
    "        #helper to standardize\n",
    "        def scale_helper(df):\n",
    "            \n",
    "            def to_zscore(col):\n",
    "                grp_mean = self.grps_[(col.name, 'mean')][df.name]\n",
    "                grp_std = self.grps_[(col.name, 'std')][df.name]\n",
    "                return (col - grp_mean) / grp_std\n",
    "            \n",
    "            return df.apply(to_zscore)\n",
    "\n",
    "        df = pd.DataFrame(X)\n",
    "        \n",
    "        return df.groupby('Year').apply(scale_helper)\n"
   ]
  },
  {
   "cell_type": "code",
   "execution_count": 186,
   "metadata": {},
   "outputs": [],
   "source": [
    "def scale(df):\n",
    "    scaler = StdScalerYr().fit(df[['Year', 'MP_reg_season', 'PTS_reg_season']])\n",
    "    return scaler.transform(df[['Year', 'MP_reg_season', 'PTS_reg_season']])\n",
    "\n",
    "to_num = ['Year', 'MP_reg_season', 'PTS_reg_season']\n",
    "num_transformer = Pipeline([('standardize', FunctionTransformer(scale, validate = False))])\n",
    "\n",
    "#columns for categorical transformation\n",
    "to_ohe = ['Pos', 'Tm']\n",
    "ohe_transformer = Pipeline([('one-hot', OneHotEncoder())])\n",
    "\n",
    "#put transformers into a column transformer\n",
    "preprocessor = ColumnTransformer(transformers = [('cat', ohe_transformer, to_ohe), \n",
    "                                                 ('num', num_transformer, to_num)], \n",
    "                                 remainder = 'passthrough')\n",
    "\n",
    "#make and fit the baseline pipeline\n",
    "final_pl = Pipeline([('preprocess', preprocessor), \n",
    "                        ('cls', RandomForestClassifier(n_estimators=3))])\n",
    "\n",
    "final_pl.fit(X_train, y_train)\n",
    "\n",
    "#predict whether or not a player is in the playoffs\n",
    "final_pred = final_pl.predict(X_test)\n"
   ]
  },
  {
   "cell_type": "code",
   "execution_count": 187,
   "metadata": {},
   "outputs": [
    {
     "data": {
      "text/plain": [
       "'approximately 67.19% correctly classified in final model'"
      ]
     },
     "metadata": {},
     "output_type": "display_data"
    }
   ],
   "source": [
    "#show the percentage we got correct\n",
    "display('approximately '+ \n",
    "        str(round(metrics.accuracy_score(y_test, final_pred) * 100, 2)) + \n",
    "        '% correctly classified in final model')\n"
   ]
  },
  {
   "cell_type": "code",
   "execution_count": 190,
   "metadata": {},
   "outputs": [
    {
     "data": {
      "text/plain": [
       "0.5516014234875445"
      ]
     },
     "execution_count": 190,
     "metadata": {},
     "output_type": "execute_result"
    }
   ],
   "source": [
    "metrics.f1_score(y_test, final_pred)"
   ]
  },
  {
   "cell_type": "markdown",
   "metadata": {},
   "source": [
    "### Results: Fairness Evaluation\n",
    "---"
   ]
  },
  {
   "cell_type": "code",
   "execution_count": 162,
   "metadata": {},
   "outputs": [],
   "source": [
    "results = X_test\n",
    "results['prediction'] = final_pred\n",
    "results['tag'] = y_test"
   ]
  },
  {
   "cell_type": "code",
   "execution_count": 196,
   "metadata": {},
   "outputs": [
    {
     "data": {
      "text/html": [
       "<div>\n",
       "<style scoped>\n",
       "    .dataframe tbody tr th:only-of-type {\n",
       "        vertical-align: middle;\n",
       "    }\n",
       "\n",
       "    .dataframe tbody tr th {\n",
       "        vertical-align: top;\n",
       "    }\n",
       "\n",
       "    .dataframe thead th {\n",
       "        text-align: right;\n",
       "    }\n",
       "</style>\n",
       "<table border=\"1\" class=\"dataframe\">\n",
       "  <thead>\n",
       "    <tr style=\"text-align: right;\">\n",
       "      <th></th>\n",
       "      <th>prediction</th>\n",
       "    </tr>\n",
       "    <tr>\n",
       "      <th>is_starter</th>\n",
       "      <th></th>\n",
       "    </tr>\n",
       "  </thead>\n",
       "  <tbody>\n",
       "    <tr>\n",
       "      <th>not starter</th>\n",
       "      <td>0.309160</td>\n",
       "    </tr>\n",
       "    <tr>\n",
       "      <th>starter</th>\n",
       "      <td>0.520492</td>\n",
       "    </tr>\n",
       "  </tbody>\n",
       "</table>\n",
       "</div>"
      ],
      "text/plain": [
       "             prediction\n",
       "is_starter             \n",
       "not starter    0.309160\n",
       "starter        0.520492"
      ]
     },
     "execution_count": 196,
     "metadata": {},
     "output_type": "execute_result"
    }
   ],
   "source": [
    "results['is_starter'] = ((data['GS_reg_season'] / data['G_reg_season']) > 0.5).replace({True:'starter', False:'not starter'})\n",
    "\n",
    "results.groupby('is_starter').prediction.mean().to_frame()"
   ]
  },
  {
   "cell_type": "code",
   "execution_count": 164,
   "metadata": {},
   "outputs": [
    {
     "data": {
      "text/html": [
       "<div>\n",
       "<style scoped>\n",
       "    .dataframe tbody tr th:only-of-type {\n",
       "        vertical-align: middle;\n",
       "    }\n",
       "\n",
       "    .dataframe tbody tr th {\n",
       "        vertical-align: top;\n",
       "    }\n",
       "\n",
       "    .dataframe thead th {\n",
       "        text-align: right;\n",
       "    }\n",
       "</style>\n",
       "<table border=\"1\" class=\"dataframe\">\n",
       "  <thead>\n",
       "    <tr style=\"text-align: right;\">\n",
       "      <th></th>\n",
       "      <th>accuracy</th>\n",
       "    </tr>\n",
       "    <tr>\n",
       "      <th>is_starter</th>\n",
       "      <th></th>\n",
       "    </tr>\n",
       "  </thead>\n",
       "  <tbody>\n",
       "    <tr>\n",
       "      <th>not starter</th>\n",
       "      <td>0.694656</td>\n",
       "    </tr>\n",
       "    <tr>\n",
       "      <th>starter</th>\n",
       "      <td>0.668033</td>\n",
       "    </tr>\n",
       "  </tbody>\n",
       "</table>\n",
       "</div>"
      ],
      "text/plain": [
       "             accuracy\n",
       "is_starter           \n",
       "not starter  0.694656\n",
       "starter      0.668033"
      ]
     },
     "execution_count": 164,
     "metadata": {},
     "output_type": "execute_result"
    }
   ],
   "source": [
    "(\n",
    "    results\n",
    "    .groupby('is_starter')\n",
    "    .apply(lambda x: metrics.accuracy_score(x.tag, x.prediction))\n",
    "    .rename('accuracy')\n",
    "    .to_frame()\n",
    ")"
   ]
  },
  {
   "cell_type": "code",
   "execution_count": 165,
   "metadata": {},
   "outputs": [],
   "source": [
    "obs = results.groupby('is_starter').apply(lambda x: metrics.accuracy_score(x.tag, x.prediction)).diff().iloc[-1]\n",
    "\n",
    "metrs = []\n",
    "for _ in range(500):\n",
    "    s = (\n",
    "        results[['is_starter', 'prediction', 'tag']]\n",
    "        .assign(is_starter = results['is_starter'].sample(frac=1.0, replace=False).reset_index(drop=True))\n",
    "        .groupby('is_starter')\n",
    "        .apply(lambda x: metrics.accuracy_score(x.tag, x.prediction))\n",
    "        .diff()\n",
    "        .iloc[-1]\n",
    "    )\n",
    "    \n",
    "    metrs.append(s)"
   ]
  },
  {
   "cell_type": "code",
   "execution_count": 166,
   "metadata": {},
   "outputs": [
    {
     "name": "stdout",
     "output_type": "stream",
     "text": [
      "0.37\n"
     ]
    },
    {
     "data": {
      "image/png": "[encoded data removed]",
      "text/plain": [
       "<matplotlib.figure.Figure at 0x1e0c78e8e10>"
      ]
     },
     "metadata": {},
     "output_type": "display_data"
    }
   ],
   "source": [
    "print(pd.Series(metrs <= obs).mean())\n",
    "pd.Series(metrs).plot(kind='hist', title='Permutation Test for playoffs across players who are starters')\n",
    "plot.scatter(obs, 0, c='r');"
   ]
  },
  {
   "cell_type": "code",
   "execution_count": null,
   "metadata": {},
   "outputs": [],
   "source": []
  },
  {
   "cell_type": "code",
   "execution_count": 167,
   "metadata": {},
   "outputs": [
    {
     "data": {
      "text/html": [
       "<div>\n",
       "<style scoped>\n",
       "    .dataframe tbody tr th:only-of-type {\n",
       "        vertical-align: middle;\n",
       "    }\n",
       "\n",
       "    .dataframe tbody tr th {\n",
       "        vertical-align: top;\n",
       "    }\n",
       "\n",
       "    .dataframe thead th {\n",
       "        text-align: right;\n",
       "    }\n",
       "</style>\n",
       "<table border=\"1\" class=\"dataframe\">\n",
       "  <thead>\n",
       "    <tr style=\"text-align: right;\">\n",
       "      <th></th>\n",
       "      <th>recall_score</th>\n",
       "    </tr>\n",
       "    <tr>\n",
       "      <th>is_starter</th>\n",
       "      <th></th>\n",
       "    </tr>\n",
       "  </thead>\n",
       "  <tbody>\n",
       "    <tr>\n",
       "      <th>not starter</th>\n",
       "      <td>0.505814</td>\n",
       "    </tr>\n",
       "    <tr>\n",
       "      <th>starter</th>\n",
       "      <td>0.709091</td>\n",
       "    </tr>\n",
       "  </tbody>\n",
       "</table>\n",
       "</div>"
      ],
      "text/plain": [
       "             recall_score\n",
       "is_starter               \n",
       "not starter      0.505814\n",
       "starter          0.709091"
      ]
     },
     "execution_count": 167,
     "metadata": {},
     "output_type": "execute_result"
    }
   ],
   "source": [
    "(\n",
    "    results\n",
    "    .groupby('is_starter')\n",
    "    .apply(lambda x: metrics.recall_score(x.tag, x.prediction))\n",
    "    .rename('recall_score')\n",
    "    .to_frame()\n",
    ")"
   ]
  },
  {
   "cell_type": "code",
   "execution_count": 168,
   "metadata": {},
   "outputs": [],
   "source": [
    "obs = results.groupby('is_starter').apply(lambda x: metrics.recall_score(x.tag, x.prediction)).diff().iloc[-1]\n",
    "\n",
    "metrs = []\n",
    "for _ in range(500):\n",
    "    s = (\n",
    "        results[['is_starter', 'prediction', 'tag']]\n",
    "        .assign(is_starter = results['is_starter'].sample(frac=1.0, replace=False).reset_index(drop=True))\n",
    "        .groupby('is_starter')\n",
    "        .apply(lambda x: metrics.recall_score(x.tag, x.prediction))\n",
    "        .diff()\n",
    "        .iloc[-1]\n",
    "    )\n",
    "    \n",
    "    metrs.append(s)"
   ]
  },
  {
   "cell_type": "code",
   "execution_count": 169,
   "metadata": {},
   "outputs": [
    {
     "name": "stdout",
     "output_type": "stream",
     "text": [
      "0.936\n"
     ]
    },
    {
     "data": {
      "image/png": "[encoded data removed]",
      "text/plain": [
       "<matplotlib.figure.Figure at 0x1e0c9d24710>"
      ]
     },
     "metadata": {},
     "output_type": "display_data"
    }
   ],
   "source": [
    "print(pd.Series(metrs <= obs).mean())\n",
    "pd.Series(metrs).plot(kind='hist', title='Permutation Test for playoffs across players who are starters')\n",
    "plot.scatter(obs, 0, c='r');"
   ]
  },
  {
   "cell_type": "code",
   "execution_count": null,
   "metadata": {},
   "outputs": [],
   "source": []
  },
  {
   "cell_type": "code",
   "execution_count": null,
   "metadata": {
    "collapsed": true
   },
   "outputs": [],
   "source": []
  }
 ],
 "metadata": {
  "kernelspec": {
   "display_name": "Python 3",
   "language": "python",
   "name": "python3"
  },
  "language_info": {
   "codemirror_mode": {
    "name": "ipython",
    "version": 3
   },
   "file_extension": ".py",
   "mimetype": "text/x-python",
   "name": "python",
   "nbconvert_exporter": "python",
   "pygments_lexer": "ipython3",
   "version": "3.6.3"
  }
 },
 "nbformat": 4,
 "nbformat_minor": 2
}
