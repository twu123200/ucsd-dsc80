{
 "cells": [
  {
   "cell_type": "markdown",
   "metadata": {},
   "source": [
    "# DSC 80: Project 05\n",
    "\n",
    "### Due Date: Thursday, June 6, 11:59:59 PM"
   ]
  },
  {
   "cell_type": "markdown",
   "metadata": {},
   "source": [
    "---\n",
    "\n",
    "# Instructions\n",
    "\n",
    "This project will be an open-ended investigation into the dataset you chose for project 3; you will pose a prediction problem and train a model to solve it. You will follow the steps given below:\n",
    "\n",
    "1. Use the dataset you chose in project 03 (NBA, Bike Shares, Elections).\n",
    "1. Clearly state and frame a prediction problem (classification or regression); choose and justify an objective (e.g. accuracy vs f1-score).\n",
    "1. Train a \"baseline\" model with generic set of features created for different kinds of data (e.g. ordinal encoding, one-hot encoding).\n",
    "1. Engineer at least two new features from the data that improve your baseline model.\n",
    "1. Create an `sklearn` ML-pipeline; do a search for the best model and parameters using the pipeline.\n",
    "1. Do an inference analysis on the results (i.e. does my model perform better on attribute X vs Y?).\n",
    "\n",
    "\n",
    "### How to organize and submit your work for grading\n",
    "\n",
    "You must summarize your results in a summary section, in markdown cells. **Failure to summarize your results this way will result in a zero.**\n",
    "\n",
    "The results section should include a summary of each of the above bullets in the project description above:\n",
    "1. State the *prediction problem* you are attempting, if it's a classification or regression problem, explain your choice of target variable and evaluation metric (objective).\n",
    "1. A summary of the baseline model:\n",
    "    - The number of features, including how many are quantitative, ordinal, and nominal.\n",
    "    - The model performance (your evaluation metric) and whether you think this it's good or not (and why).\n",
    "1. A summary of the improved model:\n",
    "    - The features you added and *why* they are good for your data.\n",
    "    - The model type you chose; the parameters that ended up performing best; the method of model selection used.\n",
    "1. Evaluate your model for \"fairness\" on an interesting subset of the data using a permutation test. Justify the parity measure you are using.\n",
    "\n",
    "**You will be graded on addressing the above bullet points in your summary.** You should have your code included at bottom in a clearly done, commented fashion. Upon reading the summary, it should be easy for the grader to glance down at the code to see the supporting work.\n",
    "\n",
    "You may keep your code in a `py` file and import it if you'd like, just (1) be sure the output is clearly visible in the notebook, and (2) copy and paste the code from the file to the *very* bottom of the notebook."
   ]
  },
  {
   "cell_type": "markdown",
   "metadata": {},
   "source": [
    "# Submitting the Project\n",
    "\n",
    "You will submit the notebook with your write-up (and code) to Gradescope; you will **not** be turning in a `.py` file.\n",
    "\n",
    "1. Save your notebook (e.g. `Bike Share.ipynb`) as a PDF file. To do this:\n",
    "    - Use chrome to print the page; choose the print to PDF option.\n",
    "2. Upload the file to the Gradescope assignment for the dataset you chose. For example, if you did `Bike Share`, then upload your pdf to the assignment `project05_BikeShare`.\n",
    "3. You are done! (You do *not* need to upload this notebook)."
   ]
  },
  {
   "cell_type": "code",
   "execution_count": null,
   "metadata": {
    "collapsed": true
   },
   "outputs": [],
   "source": []
  }
 ],
 "metadata": {
  "celltoolbar": "Slideshow",
  "kernelspec": {
   "display_name": "Python 3",
   "language": "python",
   "name": "python3"
  },
  "language_info": {
   "codemirror_mode": {
    "name": "ipython",
    "version": 3
   },
   "file_extension": ".py",
   "mimetype": "text/x-python",
   "name": "python",
   "nbconvert_exporter": "python",
   "pygments_lexer": "ipython3",
   "version": "3.6.3"
  }
 },
 "nbformat": 4,
 "nbformat_minor": 2
}
