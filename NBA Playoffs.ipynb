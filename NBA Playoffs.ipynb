{
 "cells": [
  {
   "cell_type": "markdown",
   "metadata": {},
   "source": [
    "# NBA Playoffs\n",
    "\n",
    "This project uses data from `basketball-reference.com` to ask questions about NBA players, who makes it to the playoffs, and how they perform once they get there. Generally, a few questions to consider looking into are:\n",
    "\n",
    "* Which people over/under-perform in the playoffs (compared to the regular season).\n",
    "* Who makes it to the playoffs? Teams with better performing Centers? Forwards Guards? Younger teams?\n",
    "\n",
    "### Getting the data\n",
    "\n",
    "* The yearly data on all players for the regular season year `20XX` is found at the url:\n",
    "```\n",
    "https://www.basketball-reference.com/leagues/NBA_20XX_totals.html\n",
    "```\n",
    "* The yearly playoff data on all players in the playoffs for the year `20XX` is found at the url:\n",
    "```\n",
    "https://www.basketball-reference.com/playoffs/NBA_20XX_totals.html\n",
    "```\n",
    "\n",
    "Use `pd.read_html` to get data from 2012-2018, combine it into a single (cleaned) dataframe, and save it to a local file (so you are not repeatedly requesting data from the url). Be sure to keep track of which year each row came from!\n",
    "\n",
    "### Combining playoff and regular season data; cleaning the data; doing descriptive statistics\n",
    "\n",
    "* For each year, join the regular season data and playoff data for each player. This is tricky, as players are sometimes traded mid-season and will occupy more than one row in a given year.\n",
    "* Clean the data, create useful new columns, and handle null values appropriately.\n",
    "* Assess the data through univariate and bivariate analysis. Consider attributions to aggregrate by as well; analyze the aggregates.\n",
    "\n",
    "### Missingness\n",
    "\n",
    "Since each dataset (regular season and playoffs) separately has no \"unpredictable\" missing values, missingness will solely reflect whether a player was present in the playoffs or not. Consider the missingness in a column from the playoffs table and assess its missingness dependent on columns in the regular-season table.\n",
    "\n",
    "### Hypothesis Test\n",
    "\n",
    "Find a hypothesis test to perform. You can use the questions at the top of the notebook for inspiration.\n"
   ]
  },
  {
   "cell_type": "markdown",
   "metadata": {},
   "source": [
    "---\n",
    "# Summary of Findings\n",
    "\n",
    "\n",
    "## Introduction\n",
    "---\n",
    "\n",
    "\n",
    "\n",
    "\n",
    "### Results of Cleaning and EDA:\n",
    "---\n",
    "\n",
    "\n",
    "\n",
    "### Results of Missingness:\n",
    "---\n",
    "\n",
    "\n",
    "\n",
    "### Results of Hypothesis Test\n",
    "---\n",
    "\n",
    "\n",
    "---"
   ]
  },
  {
   "cell_type": "markdown",
   "metadata": {},
   "source": [
    "# Your Code Starts Here"
   ]
  },
  {
   "cell_type": "code",
   "execution_count": 2,
   "metadata": {
    "collapsed": true
   },
   "outputs": [],
   "source": [
    "%matplotlib inline\n",
    "import os\n",
    "\n",
    "import pandas as pd\n",
    "import numpy as np\n",
    "from scipy.stats import ks_2samp\n",
    "\n",
    "import matplotlib.pyplot as plt\n",
    "import seaborn as sns"
   ]
  },
  {
   "cell_type": "code",
   "execution_count": 3,
   "metadata": {
    "collapsed": true
   },
   "outputs": [],
   "source": [
    "#HAPPY BIRTHDAY!\n",
    "\n",
    "data = pd.DataFrame()\n",
    "for year in range(2012, 2019):\n",
    "\n",
    "    reg_season_df = pd.read_html('https://www.basketball-reference.com/leagues/NBA_%d_totals.html' % year)[0]\n",
    "    reg_season_df = reg_season_df.drop(reg_season_df.loc[reg_season_df['Player'] == 'Player'].index).drop('Rk', axis=1)\n",
    "    \n",
    "    playoff_df = pd.read_html('https://www.basketball-reference.com/playoffs/NBA_%d_totals.html' % year)[0]\n",
    "    playoff_df = playoff_df.drop(playoff_df.loc[playoff_df['Player'] == 'Player'].index).drop('Rk', axis=1)\n",
    "    \n",
    "    temp = reg_season_df.merge(playoff_df, on = ['Player', 'Pos', 'Age', 'Tm'], how = 'left', suffixes=['_reg_season', '_playoff'])\n",
    "    temp['Year'] = year\n",
    "    temp = temp[[temp.columns[-1]] + temp.columns[:-1].tolist()]\n",
    "    \n",
    "    data = pd.concat([data, temp])\n",
    "\n",
    "data = data.reset_index(drop=True)\n",
    "data.to_csv('data\\\\basketball_data.csv', index = False)"
   ]
  },
  {
   "cell_type": "code",
   "execution_count": 4,
   "metadata": {
    "collapsed": true
   },
   "outputs": [],
   "source": [
    "fp = os.path.join('data', 'basketball_data.csv')\n",
    "data = pd.read_csv(fp)"
   ]
  },
  {
   "cell_type": "code",
   "execution_count": null,
   "metadata": {
    "collapsed": true
   },
   "outputs": [],
   "source": []
  },
  {
   "cell_type": "code",
   "execution_count": null,
   "metadata": {
    "collapsed": true
   },
   "outputs": [],
   "source": []
  },
  {
   "cell_type": "markdown",
   "metadata": {},
   "source": [
    "### Cleaning and EDA:\n",
    "---"
   ]
  },
  {
   "cell_type": "code",
   "execution_count": 6,
   "metadata": {},
   "outputs": [
    {
     "name": "stdout",
     "output_type": "stream",
     "text": [
      "Original shape: (4223, 55)\n",
      "New shape: (3836, 55)\n"
     ]
    }
   ],
   "source": [
    "#get the shape of the original data to verify rows have been successfully dropped\n",
    "print(\"Original shape: \" + str(data.shape))\n",
    "\n",
    "temp = data.copy()\n",
    "#drop the rows with index where \"Tm\" is \"TOT\"\n",
    "temp.drop(temp.loc[temp['Tm'] == \"TOT\"].index, inplace = True)\n",
    "#get the new shape of the cleaner data to verify rows have been successfully dropped\n",
    "print(\"New shape: \" + str(temp.shape))\n",
    "\n",
    "#map data to the cleaner dataframe\n",
    "data = temp"
   ]
  },
  {
   "cell_type": "code",
   "execution_count": 7,
   "metadata": {
    "collapsed": true
   },
   "outputs": [],
   "source": [
    "def conference(team):\n",
    "    west = ['GSW', 'DEN', 'POR', 'HOU', 'UTA', 'OKC', 'SAS', \n",
    "            'LAC', 'SAC', 'LAL', 'MIN', 'MEM', 'NOP', 'NOH', 'DAL', 'PHO']\n",
    "    #if team in western conference, return WEST\n",
    "    if team in west:\n",
    "        return 'WEST'\n",
    "    #if team not in western conference, return EAST\n",
    "    else:\n",
    "        return 'EAST'\n",
    "\n",
    "\n",
    "data['Conf'] = data['Tm'].apply(lambda x: conference(x))"
   ]
  },
  {
   "cell_type": "code",
   "execution_count": 8,
   "metadata": {},
   "outputs": [
    {
     "data": {
      "text/html": [
       "<div>\n",
       "<style scoped>\n",
       "    .dataframe tbody tr th:only-of-type {\n",
       "        vertical-align: middle;\n",
       "    }\n",
       "\n",
       "    .dataframe tbody tr th {\n",
       "        vertical-align: top;\n",
       "    }\n",
       "\n",
       "    .dataframe thead tr th {\n",
       "        text-align: left;\n",
       "    }\n",
       "\n",
       "    .dataframe thead tr:last-of-type th {\n",
       "        text-align: right;\n",
       "    }\n",
       "</style>\n",
       "<table border=\"1\" class=\"dataframe\">\n",
       "  <thead>\n",
       "    <tr>\n",
       "      <th></th>\n",
       "      <th colspan=\"7\" halign=\"left\">PTS_reg_season</th>\n",
       "    </tr>\n",
       "    <tr>\n",
       "      <th>Year</th>\n",
       "      <th>2012</th>\n",
       "      <th>2013</th>\n",
       "      <th>2014</th>\n",
       "      <th>2015</th>\n",
       "      <th>2016</th>\n",
       "      <th>2017</th>\n",
       "      <th>2018</th>\n",
       "    </tr>\n",
       "    <tr>\n",
       "      <th>Conf</th>\n",
       "      <th></th>\n",
       "      <th></th>\n",
       "      <th></th>\n",
       "      <th></th>\n",
       "      <th></th>\n",
       "      <th></th>\n",
       "      <th></th>\n",
       "    </tr>\n",
       "  </thead>\n",
       "  <tbody>\n",
       "    <tr>\n",
       "      <th>EAST</th>\n",
       "      <td>0.489622</td>\n",
       "      <td>0.489895</td>\n",
       "      <td>0.487234</td>\n",
       "      <td>0.490085</td>\n",
       "      <td>0.494916</td>\n",
       "      <td>0.496302</td>\n",
       "      <td>0.498788</td>\n",
       "    </tr>\n",
       "    <tr>\n",
       "      <th>WEST</th>\n",
       "      <td>0.510378</td>\n",
       "      <td>0.510105</td>\n",
       "      <td>0.512766</td>\n",
       "      <td>0.509915</td>\n",
       "      <td>0.505084</td>\n",
       "      <td>0.503698</td>\n",
       "      <td>0.501212</td>\n",
       "    </tr>\n",
       "  </tbody>\n",
       "</table>\n",
       "</div>"
      ],
      "text/plain": [
       "     PTS_reg_season                                                    \\\n",
       "Year           2012      2013      2014      2015      2016      2017   \n",
       "Conf                                                                    \n",
       "EAST       0.489622  0.489895  0.487234  0.490085  0.494916  0.496302   \n",
       "WEST       0.510378  0.510105  0.512766  0.509915  0.505084  0.503698   \n",
       "\n",
       "                \n",
       "Year      2018  \n",
       "Conf            \n",
       "EAST  0.498788  \n",
       "WEST  0.501212  "
      ]
     },
     "metadata": {},
     "output_type": "display_data"
    },
    {
     "data": {
      "text/plain": [
       "Text(0.5,0,'Conference')"
      ]
     },
     "execution_count": 8,
     "metadata": {},
     "output_type": "execute_result"
    },
    {
     "data": {
      "image/png": "[encoded data removed]",
      "text/plain": [
       "<matplotlib.figure.Figure at 0x2c9a6b7a7b8>"
      ]
     },
     "metadata": {},
     "output_type": "display_data"
    }
   ],
   "source": [
    "#visualize the proportions of total points per conference in the regular season\n",
    "#get the total points scored by players in the league per year\n",
    "total_pts = data.groupby('Year')[['PTS_reg_season']].sum()\n",
    "\n",
    "\n",
    "#get the proportion of points scored by players in the league by conference per year\n",
    "by_conf = data.groupby([\"Year\", \"Conf\"])[['PTS_reg_season']].sum() / total_pts\n",
    "\n",
    "display(by_conf.unstack(0))\n",
    "\n",
    "#plot our findings\n",
    "pts_prop = by_conf.unstack(0).plot(kind = 'bar', legend = False, \n",
    "                                   title = \"Proportion of Points Scored By Conference Per Year (Fig. 1)\")\n",
    "#move the legend outside the plot\n",
    "plt.legend(bbox_to_anchor=(1.04,1), loc=\"upper left\")\n",
    "#add labels\n",
    "pts_prop.set_ylabel(\"Proportion\")\n",
    "pts_prop.set_xlabel(\"Conference\")"
   ]
  },
  {
   "cell_type": "code",
   "execution_count": 9,
   "metadata": {},
   "outputs": [
    {
     "data": {
      "text/html": [
       "<div>\n",
       "<style scoped>\n",
       "    .dataframe tbody tr th:only-of-type {\n",
       "        vertical-align: middle;\n",
       "    }\n",
       "\n",
       "    .dataframe tbody tr th {\n",
       "        vertical-align: top;\n",
       "    }\n",
       "\n",
       "    .dataframe thead tr th {\n",
       "        text-align: left;\n",
       "    }\n",
       "\n",
       "    .dataframe thead tr:last-of-type th {\n",
       "        text-align: right;\n",
       "    }\n",
       "</style>\n",
       "<table border=\"1\" class=\"dataframe\">\n",
       "  <thead>\n",
       "    <tr>\n",
       "      <th></th>\n",
       "      <th colspan=\"7\" halign=\"left\">PTS_playoff</th>\n",
       "    </tr>\n",
       "    <tr>\n",
       "      <th>Year</th>\n",
       "      <th>2012</th>\n",
       "      <th>2013</th>\n",
       "      <th>2014</th>\n",
       "      <th>2015</th>\n",
       "      <th>2016</th>\n",
       "      <th>2017</th>\n",
       "      <th>2018</th>\n",
       "    </tr>\n",
       "    <tr>\n",
       "      <th>Conf</th>\n",
       "      <th></th>\n",
       "      <th></th>\n",
       "      <th></th>\n",
       "      <th></th>\n",
       "      <th></th>\n",
       "      <th></th>\n",
       "      <th></th>\n",
       "    </tr>\n",
       "  </thead>\n",
       "  <tbody>\n",
       "    <tr>\n",
       "      <th>EAST</th>\n",
       "      <td>0.511513</td>\n",
       "      <td>0.507572</td>\n",
       "      <td>0.449405</td>\n",
       "      <td>0.46559</td>\n",
       "      <td>0.503673</td>\n",
       "      <td>0.511131</td>\n",
       "      <td>0.518129</td>\n",
       "    </tr>\n",
       "    <tr>\n",
       "      <th>WEST</th>\n",
       "      <td>0.488487</td>\n",
       "      <td>0.492428</td>\n",
       "      <td>0.550595</td>\n",
       "      <td>0.53441</td>\n",
       "      <td>0.496327</td>\n",
       "      <td>0.488869</td>\n",
       "      <td>0.481871</td>\n",
       "    </tr>\n",
       "  </tbody>\n",
       "</table>\n",
       "</div>"
      ],
      "text/plain": [
       "     PTS_playoff                                                           \n",
       "Year        2012      2013      2014     2015      2016      2017      2018\n",
       "Conf                                                                       \n",
       "EAST    0.511513  0.507572  0.449405  0.46559  0.503673  0.511131  0.518129\n",
       "WEST    0.488487  0.492428  0.550595  0.53441  0.496327  0.488869  0.481871"
      ]
     },
     "metadata": {},
     "output_type": "display_data"
    },
    {
     "data": {
      "text/plain": [
       "Text(0.5,0,'Conference')"
      ]
     },
     "execution_count": 9,
     "metadata": {},
     "output_type": "execute_result"
    },
    {
     "data": {
      "image/png": "[encoded data removed]",
      "text/plain": [
       "<matplotlib.figure.Figure at 0x2c9a6a91b38>"
      ]
     },
     "metadata": {},
     "output_type": "display_data"
    }
   ],
   "source": [
    "#visualize the proportions of total points per conference in the playoff season\n",
    "#get the total points scored by players in the league per year\n",
    "total_pts = data.groupby('Year')[['PTS_playoff']].sum()\n",
    "\n",
    "#get the proportion of points scored by players in the league by conference per year\n",
    "by_conf = data.groupby([\"Year\", \"Conf\"])[['PTS_playoff']].sum() / total_pts\n",
    "\n",
    "display(by_conf.unstack(0))\n",
    "\n",
    "#plot our findings\n",
    "pts_prop = by_conf.unstack(0).plot(kind = 'bar', legend = False, \n",
    "                                   title = \"Playoff Proportion of Points Scored By Conference Per Year (Fig. 2)\")\n",
    "#move the legend outside the plot\n",
    "plt.legend(bbox_to_anchor=(1.04,1), loc=\"upper left\")\n",
    "#add labels\n",
    "pts_prop.set_ylabel(\"Proportion\")\n",
    "pts_prop.set_xlabel(\"Conference\")"
   ]
  },
  {
   "cell_type": "markdown",
   "metadata": {},
   "source": [
    "We could see from Fig 2 that the proportion of points scored per year in the playoffs tends to be consistent between conferences, except for two years: 2014 and 2015. For these two years, the West conference has a considerably higher proportion. If we Google the NBA winners in 2014 and 2015, we see that two Western conference teams win these years, the San Antonio Spurs (SAS) and Golden State Warriors (GSW), respectively, win these years. Thus, we have some observational evidence that the West may be better than the East in these two years."
   ]
  },
  {
   "cell_type": "code",
   "execution_count": 10,
   "metadata": {},
   "outputs": [
    {
     "data": {
      "text/html": [
       "<div>\n",
       "<style scoped>\n",
       "    .dataframe tbody tr th:only-of-type {\n",
       "        vertical-align: middle;\n",
       "    }\n",
       "\n",
       "    .dataframe tbody tr th {\n",
       "        vertical-align: top;\n",
       "    }\n",
       "\n",
       "    .dataframe thead th {\n",
       "        text-align: right;\n",
       "    }\n",
       "</style>\n",
       "<table border=\"1\" class=\"dataframe\">\n",
       "  <thead>\n",
       "    <tr style=\"text-align: right;\">\n",
       "      <th></th>\n",
       "      <th>PTS_reg_season</th>\n",
       "      <th>PTS_playoff</th>\n",
       "    </tr>\n",
       "    <tr>\n",
       "      <th>Pos</th>\n",
       "      <th></th>\n",
       "      <th></th>\n",
       "    </tr>\n",
       "  </thead>\n",
       "  <tbody>\n",
       "    <tr>\n",
       "      <th>C</th>\n",
       "      <td>0.172757</td>\n",
       "      <td>0.148392</td>\n",
       "    </tr>\n",
       "    <tr>\n",
       "      <th>PF</th>\n",
       "      <td>0.203925</td>\n",
       "      <td>0.194571</td>\n",
       "    </tr>\n",
       "    <tr>\n",
       "      <th>PG</th>\n",
       "      <td>0.212680</td>\n",
       "      <td>0.224755</td>\n",
       "    </tr>\n",
       "    <tr>\n",
       "      <th>SF</th>\n",
       "      <td>0.181794</td>\n",
       "      <td>0.191600</td>\n",
       "    </tr>\n",
       "    <tr>\n",
       "      <th>SG</th>\n",
       "      <td>0.228844</td>\n",
       "      <td>0.240682</td>\n",
       "    </tr>\n",
       "  </tbody>\n",
       "</table>\n",
       "</div>"
      ],
      "text/plain": [
       "     PTS_reg_season  PTS_playoff\n",
       "Pos                             \n",
       "C          0.172757     0.148392\n",
       "PF         0.203925     0.194571\n",
       "PG         0.212680     0.224755\n",
       "SF         0.181794     0.191600\n",
       "SG         0.228844     0.240682"
      ]
     },
     "metadata": {},
     "output_type": "display_data"
    },
    {
     "data": {
      "text/plain": [
       "Text(0.5,0,'Position')"
      ]
     },
     "execution_count": 10,
     "metadata": {},
     "output_type": "execute_result"
    },
    {
     "data": {
      "image/png": "[encoded data removed]",
      "text/plain": [
       "<matplotlib.figure.Figure at 0x2c9a6fdc358>"
      ]
     },
     "metadata": {},
     "output_type": "display_data"
    }
   ],
   "source": [
    "reg_total_pts = data['PTS_reg_season'].sum()\n",
    "playoff_total_pts = data['PTS_playoff'].sum()\n",
    "by_pos = data.groupby('Pos').agg({'PTS_reg_season': lambda x: np.sum(x) / reg_total_pts, \n",
    "                                  'PTS_playoff': lambda x: np.sum(x) / playoff_total_pts})\n",
    "display(by_pos)\n",
    "pos_plot = by_pos.plot(kind = 'bar', \n",
    "                       title = \"Proportion of Points Scored By Position (Fig. 3)\")\n",
    "pos_plot.set_ylabel(\"Proportion\")\n",
    "pos_plot.set_xlabel(\"Position\")"
   ]
  },
  {
   "cell_type": "markdown",
   "metadata": {},
   "source": [
    "We see that there is a clear difference between the points scored by position in both the regular season and in playoff. Most noteablly, it seems that the positions with a lower proportion of points scored in the regular season scored an even lower proportion in the playoffs, and the positions with a higher proportion of points scored in the regular season scored an even higher proportion in the playoffs. This may suggest that teams change up their stategy during playoffs and rely on certain positions to play different roles."
   ]
  },
  {
   "cell_type": "code",
   "execution_count": 11,
   "metadata": {},
   "outputs": [
    {
     "data": {
      "text/html": [
       "<div>\n",
       "<style scoped>\n",
       "    .dataframe tbody tr th:only-of-type {\n",
       "        vertical-align: middle;\n",
       "    }\n",
       "\n",
       "    .dataframe tbody tr th {\n",
       "        vertical-align: top;\n",
       "    }\n",
       "\n",
       "    .dataframe thead th {\n",
       "        text-align: right;\n",
       "    }\n",
       "</style>\n",
       "<table border=\"1\" class=\"dataframe\">\n",
       "  <thead>\n",
       "    <tr style=\"text-align: right;\">\n",
       "      <th></th>\n",
       "      <th>FG%_reg_season</th>\n",
       "      <th>FG%_playoff</th>\n",
       "    </tr>\n",
       "    <tr>\n",
       "      <th>Pos</th>\n",
       "      <th></th>\n",
       "      <th></th>\n",
       "    </tr>\n",
       "  </thead>\n",
       "  <tbody>\n",
       "    <tr>\n",
       "      <th>C</th>\n",
       "      <td>0.517452</td>\n",
       "      <td>0.513973</td>\n",
       "    </tr>\n",
       "    <tr>\n",
       "      <th>PF</th>\n",
       "      <td>0.471642</td>\n",
       "      <td>0.463840</td>\n",
       "    </tr>\n",
       "    <tr>\n",
       "      <th>PG</th>\n",
       "      <td>0.428954</td>\n",
       "      <td>0.428773</td>\n",
       "    </tr>\n",
       "    <tr>\n",
       "      <th>SF</th>\n",
       "      <td>0.436670</td>\n",
       "      <td>0.437462</td>\n",
       "    </tr>\n",
       "    <tr>\n",
       "      <th>SG</th>\n",
       "      <td>0.429758</td>\n",
       "      <td>0.419138</td>\n",
       "    </tr>\n",
       "  </tbody>\n",
       "</table>\n",
       "</div>"
      ],
      "text/plain": [
       "     FG%_reg_season  FG%_playoff\n",
       "Pos                             \n",
       "C          0.517452     0.513973\n",
       "PF         0.471642     0.463840\n",
       "PG         0.428954     0.428773\n",
       "SF         0.436670     0.437462\n",
       "SG         0.429758     0.419138"
      ]
     },
     "execution_count": 11,
     "metadata": {},
     "output_type": "execute_result"
    }
   ],
   "source": [
    "reg_fg_prop = data.groupby('Pos')['FG_reg_season'].sum() / data.groupby('Pos')['FGA_reg_season'].sum()\n",
    "playoff_fg_prop = data.groupby('Pos')['FG_playoff'].sum() / data.groupby('Pos')['FGA_playoff'].sum()\n",
    "pd.DataFrame([reg_fg_prop, playoff_fg_prop], index = ['FG%_reg_season', 'FG%_playoff']).T"
   ]
  },
  {
   "cell_type": "markdown",
   "metadata": {},
   "source": []
  },
  {
   "cell_type": "code",
   "execution_count": 12,
   "metadata": {},
   "outputs": [
    {
     "data": {
      "text/html": [
       "<div>\n",
       "<style scoped>\n",
       "    .dataframe tbody tr th:only-of-type {\n",
       "        vertical-align: middle;\n",
       "    }\n",
       "\n",
       "    .dataframe tbody tr th {\n",
       "        vertical-align: top;\n",
       "    }\n",
       "\n",
       "    .dataframe thead th {\n",
       "        text-align: right;\n",
       "    }\n",
       "</style>\n",
       "<table border=\"1\" class=\"dataframe\">\n",
       "  <thead>\n",
       "    <tr style=\"text-align: right;\">\n",
       "      <th></th>\n",
       "      <th>PTS_reg_season</th>\n",
       "    </tr>\n",
       "    <tr>\n",
       "      <th>Pos</th>\n",
       "      <th></th>\n",
       "    </tr>\n",
       "  </thead>\n",
       "  <tbody>\n",
       "    <tr>\n",
       "      <th>C</th>\n",
       "      <td>0.626271</td>\n",
       "    </tr>\n",
       "    <tr>\n",
       "      <th>PF</th>\n",
       "      <td>0.746090</td>\n",
       "    </tr>\n",
       "    <tr>\n",
       "      <th>PG</th>\n",
       "      <td>0.698474</td>\n",
       "    </tr>\n",
       "    <tr>\n",
       "      <th>SF</th>\n",
       "      <td>0.739343</td>\n",
       "    </tr>\n",
       "    <tr>\n",
       "      <th>SG</th>\n",
       "      <td>0.684422</td>\n",
       "    </tr>\n",
       "  </tbody>\n",
       "</table>\n",
       "</div>"
      ],
      "text/plain": [
       "     PTS_reg_season\n",
       "Pos                \n",
       "C          0.626271\n",
       "PF         0.746090\n",
       "PG         0.698474\n",
       "SF         0.739343\n",
       "SG         0.684422"
      ]
     },
     "execution_count": 12,
     "metadata": {},
     "output_type": "execute_result"
    },
    {
     "data": {
      "image/png": "[encoded data removed]",
      "text/plain": [
       "<matplotlib.figure.Figure at 0x2c9a3061b38>"
      ]
     },
     "metadata": {},
     "output_type": "display_data"
    },
    {
     "data": {
      "image/png": "[encoded data removed]",
      "text/plain": [
       "<matplotlib.figure.Figure at 0x2c9a70f0828>"
      ]
     },
     "metadata": {},
     "output_type": "display_data"
    },
    {
     "data": {
      "image/png": "[encoded data removed]",
      "text/plain": [
       "<matplotlib.figure.Figure at 0x2c9a714dc18>"
      ]
     },
     "metadata": {},
     "output_type": "display_data"
    },
    {
     "data": {
      "image/png": "[encoded data removed]",
      "text/plain": [
       "<matplotlib.figure.Figure at 0x2c9a717d710>"
      ]
     },
     "metadata": {},
     "output_type": "display_data"
    },
    {
     "data": {
      "image/png": "[encoded data removed]",
      "text/plain": [
       "<matplotlib.figure.Figure at 0x2c9a71e5f28>"
      ]
     },
     "metadata": {},
     "output_type": "display_data"
    }
   ],
   "source": [
    "for pos, group in data.groupby('Pos'):\n",
    "    group.plot.scatter(x = 'PTS_reg_season', y = 'PTS_playoff',\n",
    "                       title = 'Pos %s: scatterplot of points in regular season vs points in playoffs' % pos)\n",
    "    \n",
    "pd.DataFrame(data.groupby('Pos')['PTS_reg_season'].corr(data['PTS_playoff']))"
   ]
  },
  {
   "cell_type": "code",
   "execution_count": 58,
   "metadata": {},
   "outputs": [
    {
     "data": {
      "text/plain": [
       "<matplotlib.axes._subplots.AxesSubplot at 0x2c9e57ce5c0>"
      ]
     },
     "execution_count": 58,
     "metadata": {},
     "output_type": "execute_result"
    },
    {
     "data": {
      "image/png": "[encoded data removed]",
      "text/plain": [
       "<matplotlib.figure.Figure at 0x2c9e561df98>"
      ]
     },
     "metadata": {},
     "output_type": "display_data"
    }
   ],
   "source": [
    "fig, ax = plt.subplots(nrows=1, ncols=2, figsize=(12,5))\n",
    "data.groupby('Age')['PTS_reg_season'].count().plot(kind = 'bar', ax=ax[0], title = 'Counts of players in league by age')\n",
    "data.groupby('Age')['PTS_playoff'].count().plot(kind = 'bar', ax=ax[1], title = 'Counts of players that made playoffs by age')"
   ]
  },
  {
   "cell_type": "code",
   "execution_count": 129,
   "metadata": {},
   "outputs": [
    {
     "data": {
      "text/html": [
       "<div>\n",
       "<style scoped>\n",
       "    .dataframe tbody tr th:only-of-type {\n",
       "        vertical-align: middle;\n",
       "    }\n",
       "\n",
       "    .dataframe tbody tr th {\n",
       "        vertical-align: top;\n",
       "    }\n",
       "\n",
       "    .dataframe thead th {\n",
       "        text-align: right;\n",
       "    }\n",
       "</style>\n",
       "<table border=\"1\" class=\"dataframe\">\n",
       "  <thead>\n",
       "    <tr style=\"text-align: right;\">\n",
       "      <th>Year</th>\n",
       "      <th>2012</th>\n",
       "      <th>2013</th>\n",
       "      <th>2014</th>\n",
       "      <th>2015</th>\n",
       "      <th>2016</th>\n",
       "      <th>2017</th>\n",
       "      <th>2018</th>\n",
       "    </tr>\n",
       "    <tr>\n",
       "      <th>Age</th>\n",
       "      <th></th>\n",
       "      <th></th>\n",
       "      <th></th>\n",
       "      <th></th>\n",
       "      <th></th>\n",
       "      <th></th>\n",
       "      <th></th>\n",
       "    </tr>\n",
       "  </thead>\n",
       "  <tbody>\n",
       "    <tr>\n",
       "      <th>19</th>\n",
       "      <td>1.0</td>\n",
       "      <td>2.0</td>\n",
       "      <td>0.0</td>\n",
       "      <td>0.0</td>\n",
       "      <td>3.0</td>\n",
       "      <td>1.0</td>\n",
       "      <td>3.0</td>\n",
       "    </tr>\n",
       "    <tr>\n",
       "      <th>20</th>\n",
       "      <td>4.0</td>\n",
       "      <td>2.0</td>\n",
       "      <td>5.0</td>\n",
       "      <td>5.0</td>\n",
       "      <td>2.0</td>\n",
       "      <td>7.0</td>\n",
       "      <td>8.0</td>\n",
       "    </tr>\n",
       "    <tr>\n",
       "      <th>21</th>\n",
       "      <td>10.0</td>\n",
       "      <td>5.0</td>\n",
       "      <td>7.0</td>\n",
       "      <td>5.0</td>\n",
       "      <td>7.0</td>\n",
       "      <td>9.0</td>\n",
       "      <td>13.0</td>\n",
       "    </tr>\n",
       "    <tr>\n",
       "      <th>22</th>\n",
       "      <td>15.0</td>\n",
       "      <td>14.0</td>\n",
       "      <td>15.0</td>\n",
       "      <td>9.0</td>\n",
       "      <td>16.0</td>\n",
       "      <td>20.0</td>\n",
       "      <td>13.0</td>\n",
       "    </tr>\n",
       "    <tr>\n",
       "      <th>23</th>\n",
       "      <td>20.0</td>\n",
       "      <td>17.0</td>\n",
       "      <td>13.0</td>\n",
       "      <td>19.0</td>\n",
       "      <td>21.0</td>\n",
       "      <td>14.0</td>\n",
       "      <td>15.0</td>\n",
       "    </tr>\n",
       "    <tr>\n",
       "      <th>24</th>\n",
       "      <td>20.0</td>\n",
       "      <td>24.0</td>\n",
       "      <td>12.0</td>\n",
       "      <td>18.0</td>\n",
       "      <td>17.0</td>\n",
       "      <td>23.0</td>\n",
       "      <td>16.0</td>\n",
       "    </tr>\n",
       "    <tr>\n",
       "      <th>25</th>\n",
       "      <td>19.0</td>\n",
       "      <td>17.0</td>\n",
       "      <td>20.0</td>\n",
       "      <td>17.0</td>\n",
       "      <td>16.0</td>\n",
       "      <td>20.0</td>\n",
       "      <td>18.0</td>\n",
       "    </tr>\n",
       "    <tr>\n",
       "      <th>26</th>\n",
       "      <td>17.0</td>\n",
       "      <td>13.0</td>\n",
       "      <td>19.0</td>\n",
       "      <td>22.0</td>\n",
       "      <td>14.0</td>\n",
       "      <td>18.0</td>\n",
       "      <td>19.0</td>\n",
       "    </tr>\n",
       "    <tr>\n",
       "      <th>27</th>\n",
       "      <td>14.0</td>\n",
       "      <td>19.0</td>\n",
       "      <td>18.0</td>\n",
       "      <td>15.0</td>\n",
       "      <td>19.0</td>\n",
       "      <td>17.0</td>\n",
       "      <td>17.0</td>\n",
       "    </tr>\n",
       "    <tr>\n",
       "      <th>28</th>\n",
       "      <td>8.0</td>\n",
       "      <td>18.0</td>\n",
       "      <td>17.0</td>\n",
       "      <td>16.0</td>\n",
       "      <td>14.0</td>\n",
       "      <td>17.0</td>\n",
       "      <td>16.0</td>\n",
       "    </tr>\n",
       "    <tr>\n",
       "      <th>29</th>\n",
       "      <td>13.0</td>\n",
       "      <td>8.0</td>\n",
       "      <td>16.0</td>\n",
       "      <td>22.0</td>\n",
       "      <td>17.0</td>\n",
       "      <td>11.0</td>\n",
       "      <td>16.0</td>\n",
       "    </tr>\n",
       "    <tr>\n",
       "      <th>30</th>\n",
       "      <td>10.0</td>\n",
       "      <td>11.0</td>\n",
       "      <td>6.0</td>\n",
       "      <td>14.0</td>\n",
       "      <td>18.0</td>\n",
       "      <td>9.0</td>\n",
       "      <td>12.0</td>\n",
       "    </tr>\n",
       "    <tr>\n",
       "      <th>31</th>\n",
       "      <td>22.0</td>\n",
       "      <td>10.0</td>\n",
       "      <td>7.0</td>\n",
       "      <td>5.0</td>\n",
       "      <td>10.0</td>\n",
       "      <td>15.0</td>\n",
       "      <td>14.0</td>\n",
       "    </tr>\n",
       "    <tr>\n",
       "      <th>32</th>\n",
       "      <td>7.0</td>\n",
       "      <td>22.0</td>\n",
       "      <td>13.0</td>\n",
       "      <td>12.0</td>\n",
       "      <td>6.0</td>\n",
       "      <td>10.0</td>\n",
       "      <td>9.0</td>\n",
       "    </tr>\n",
       "    <tr>\n",
       "      <th>33</th>\n",
       "      <td>9.0</td>\n",
       "      <td>3.0</td>\n",
       "      <td>15.0</td>\n",
       "      <td>5.0</td>\n",
       "      <td>7.0</td>\n",
       "      <td>3.0</td>\n",
       "      <td>7.0</td>\n",
       "    </tr>\n",
       "    <tr>\n",
       "      <th>34</th>\n",
       "      <td>6.0</td>\n",
       "      <td>3.0</td>\n",
       "      <td>7.0</td>\n",
       "      <td>11.0</td>\n",
       "      <td>5.0</td>\n",
       "      <td>4.0</td>\n",
       "      <td>1.0</td>\n",
       "    </tr>\n",
       "    <tr>\n",
       "      <th>35</th>\n",
       "      <td>4.0</td>\n",
       "      <td>6.0</td>\n",
       "      <td>5.0</td>\n",
       "      <td>4.0</td>\n",
       "      <td>11.0</td>\n",
       "      <td>5.0</td>\n",
       "      <td>3.0</td>\n",
       "    </tr>\n",
       "    <tr>\n",
       "      <th>36</th>\n",
       "      <td>2.0</td>\n",
       "      <td>5.0</td>\n",
       "      <td>3.0</td>\n",
       "      <td>2.0</td>\n",
       "      <td>0.0</td>\n",
       "      <td>8.0</td>\n",
       "      <td>4.0</td>\n",
       "    </tr>\n",
       "    <tr>\n",
       "      <th>37</th>\n",
       "      <td>1.0</td>\n",
       "      <td>1.0</td>\n",
       "      <td>4.0</td>\n",
       "      <td>5.0</td>\n",
       "      <td>2.0</td>\n",
       "      <td>0.0</td>\n",
       "      <td>3.0</td>\n",
       "    </tr>\n",
       "    <tr>\n",
       "      <th>38</th>\n",
       "      <td>2.0</td>\n",
       "      <td>4.0</td>\n",
       "      <td>1.0</td>\n",
       "      <td>2.0</td>\n",
       "      <td>5.0</td>\n",
       "      <td>0.0</td>\n",
       "      <td>0.0</td>\n",
       "    </tr>\n",
       "    <tr>\n",
       "      <th>39</th>\n",
       "      <td>0.0</td>\n",
       "      <td>1.0</td>\n",
       "      <td>1.0</td>\n",
       "      <td>NaN</td>\n",
       "      <td>3.0</td>\n",
       "      <td>3.0</td>\n",
       "      <td>0.0</td>\n",
       "    </tr>\n",
       "    <tr>\n",
       "      <th>40</th>\n",
       "      <td>NaN</td>\n",
       "      <td>1.0</td>\n",
       "      <td>NaN</td>\n",
       "      <td>NaN</td>\n",
       "      <td>NaN</td>\n",
       "      <td>1.0</td>\n",
       "      <td>2.0</td>\n",
       "    </tr>\n",
       "    <tr>\n",
       "      <th>41</th>\n",
       "      <td>NaN</td>\n",
       "      <td>NaN</td>\n",
       "      <td>NaN</td>\n",
       "      <td>NaN</td>\n",
       "      <td>NaN</td>\n",
       "      <td>NaN</td>\n",
       "      <td>0.0</td>\n",
       "    </tr>\n",
       "  </tbody>\n",
       "</table>\n",
       "</div>"
      ],
      "text/plain": [
       "Year  2012  2013  2014  2015  2016  2017  2018\n",
       "Age                                           \n",
       "19     1.0   2.0   0.0   0.0   3.0   1.0   3.0\n",
       "20     4.0   2.0   5.0   5.0   2.0   7.0   8.0\n",
       "21    10.0   5.0   7.0   5.0   7.0   9.0  13.0\n",
       "22    15.0  14.0  15.0   9.0  16.0  20.0  13.0\n",
       "23    20.0  17.0  13.0  19.0  21.0  14.0  15.0\n",
       "24    20.0  24.0  12.0  18.0  17.0  23.0  16.0\n",
       "25    19.0  17.0  20.0  17.0  16.0  20.0  18.0\n",
       "26    17.0  13.0  19.0  22.0  14.0  18.0  19.0\n",
       "27    14.0  19.0  18.0  15.0  19.0  17.0  17.0\n",
       "28     8.0  18.0  17.0  16.0  14.0  17.0  16.0\n",
       "29    13.0   8.0  16.0  22.0  17.0  11.0  16.0\n",
       "30    10.0  11.0   6.0  14.0  18.0   9.0  12.0\n",
       "31    22.0  10.0   7.0   5.0  10.0  15.0  14.0\n",
       "32     7.0  22.0  13.0  12.0   6.0  10.0   9.0\n",
       "33     9.0   3.0  15.0   5.0   7.0   3.0   7.0\n",
       "34     6.0   3.0   7.0  11.0   5.0   4.0   1.0\n",
       "35     4.0   6.0   5.0   4.0  11.0   5.0   3.0\n",
       "36     2.0   5.0   3.0   2.0   0.0   8.0   4.0\n",
       "37     1.0   1.0   4.0   5.0   2.0   0.0   3.0\n",
       "38     2.0   4.0   1.0   2.0   5.0   0.0   0.0\n",
       "39     0.0   1.0   1.0   NaN   3.0   3.0   0.0\n",
       "40     NaN   1.0   NaN   NaN   NaN   1.0   2.0\n",
       "41     NaN   NaN   NaN   NaN   NaN   NaN   0.0"
      ]
     },
     "execution_count": 129,
     "metadata": {},
     "output_type": "execute_result"
    }
   ],
   "source": [
    "data.groupby(['Year', 'Age'])['PTS_playoff'].count().unstack(0)"
   ]
  },
  {
   "cell_type": "markdown",
   "metadata": {},
   "source": [
    "We see that the counts of the players in the league by age roughly follow a skewed Poisson distribution. However, the counts of players that made the playoffs by age is fairly Poisson, but there is biased toward players in their late 20s to early 30s. The proportion of players that make playoffs are roughly similar to the age, except for this biased area, so we have reason to believe that these players have more experience and talent to make playoffs compared to younger players. However, we have to note as the years go by, players will age, so looking at the table grouped by age and year, we see that many players do then to drop off in their 30s. Also, young players in their early 20s may seem to not have as much experience, so we don't see as many young players in playoffs. We also have to note that there may be less older players in the league, so there is lower chance we see them in playoffs. "
   ]
  },
  {
   "cell_type": "code",
   "execution_count": 127,
   "metadata": {},
   "outputs": [
    {
     "data": {
      "text/plain": [
       "<matplotlib.axes._subplots.AxesSubplot at 0x2c9a715ae80>"
      ]
     },
     "execution_count": 127,
     "metadata": {},
     "output_type": "execute_result"
    },
    {
     "data": {
      "image/png": "[encoded data removed]",
      "text/plain": [
       "<matplotlib.figure.Figure at 0x2c9a9472b70>"
      ]
     },
     "metadata": {},
     "output_type": "display_data"
    }
   ],
   "source": [
    "fig, ax = plt.subplots(nrows=1, ncols=2, figsize=(12,5))\n",
    "(data.groupby('Age')['PTS_reg_season'].sum() / data.groupby('Age')['G_reg_season'].sum()).plot(kind='bar', ax=ax[0], \n",
    "                                                                                                   title = 'Average points per game by age in regular season')\n",
    "(data.groupby('Age')['PTS_playoff'].sum() / data.groupby('Age')['G_playoff'].sum()).plot(kind='bar', ax=ax[1],\n",
    "                                                                                            title = 'Average points per game by age in playoffs season')"
   ]
  },
  {
   "cell_type": "markdown",
   "metadata": {},
   "source": []
  },
  {
   "cell_type": "code",
   "execution_count": null,
   "metadata": {
    "collapsed": true
   },
   "outputs": [],
   "source": []
  },
  {
   "cell_type": "markdown",
   "metadata": {},
   "source": [
    "### Missingness:\n",
    "---"
   ]
  },
  {
   "cell_type": "code",
   "execution_count": 46,
   "metadata": {
    "collapsed": true
   },
   "outputs": [],
   "source": [
    "#helper method to shuffle values\n",
    "def shuffle(df, col):\n",
    "    # shuffle col\n",
    "    shuffled_col = (\n",
    "        df[col]\n",
    "        .sample(replace=False, frac=1)\n",
    "        .reset_index(drop=True)\n",
    "    )\n",
    "        \n",
    "    # put them in a table\n",
    "    shuffled = (\n",
    "        df\n",
    "        .assign(**{\n",
    "            col: shuffled_col,\n",
    "            'is_null': df['G_playoff'].isnull()\n",
    "        })\n",
    "    )\n",
    "    return shuffled"
   ]
  },
  {
   "cell_type": "code",
   "execution_count": 130,
   "metadata": {},
   "outputs": [
    {
     "name": "stdout",
     "output_type": "stream",
     "text": [
      "0.0\n",
      "0.0\n",
      "0.0\n",
      "0.0\n",
      "0.0\n",
      "0.0\n",
      "0.0\n",
      "0.43\n"
     ]
    }
   ],
   "source": [
    "#get the desired column names\n",
    "cols = ['PTS_reg_season', 'FG%_reg_season', '3P%_reg_season', 'TRB_reg_season', \n",
    "        'BLK_reg_season', 'AST_reg_season', 'TOV_reg_season']\n",
    "\n",
    "#perform on each of the desired columns\n",
    "for col in cols:\n",
    "    \n",
    "    #list to hold results of each repetition\n",
    "    ks_list = []\n",
    "    \n",
    "    #get the observed statistic\n",
    "    observed_data = data.assign(is_null=data['G_playoff'].isnull())\n",
    "    observed_data = observed_data.groupby('is_null')[col]\n",
    "    observed = ks_2samp(observed_data.get_group(True), observed_data.get_group(False)).statistic\n",
    "    \n",
    "    #perform 100 repetitions to getting the test statistic\n",
    "    for _ in range(100):\n",
    "        #shuffle \n",
    "        shuffled = shuffle(data, col)\n",
    "        grps = shuffled.groupby('is_null')[col]\n",
    "        ks = ks_2samp(grps.get_group(True), grps.get_group(False)).statistic\n",
    "        \n",
    "        #append to list\n",
    "        ks_list.append(ks)\n",
    "    \n",
    "    pval = np.mean(ks_list > observed)\n",
    "    print(pval)"
   ]
  },
  {
   "cell_type": "code",
   "execution_count": 48,
   "metadata": {},
   "outputs": [
    {
     "name": "stdout",
     "output_type": "stream",
     "text": [
      "PTS_reg_season p-value: 0.0\n",
      "FG%_reg_season p-value: 0.0\n",
      "3P%_reg_season p-value: 0.0\n",
      "TRB_reg_season p-value: 0.0\n",
      "BLK_reg_season p-value: 0.0\n",
      "AST_reg_season p-value: 0.0\n",
      "TOV_reg_season p-value: 0.0\n"
     ]
    }
   ],
   "source": [
    "#get the desired column names\n",
    "cols = ['PTS_reg_season', 'FG%_reg_season', '3P%_reg_season', 'TRB_reg_season', \n",
    "        'BLK_reg_season', 'AST_reg_season', 'TOV_reg_season']\n",
    "\n",
    "#perform on each of the desired columns\n",
    "for col in cols:\n",
    "    \n",
    "    #list to hold results of each repetition\n",
    "    means = []\n",
    "    \n",
    "    #calculate observed statistic\n",
    "    observed = data.assign(is_null= data['G_playoff']\n",
    "                                .isnull()).groupby('is_null')[col].mean().diff().abs().iloc[-1]\n",
    "    \n",
    "    \n",
    "    #perform 100 repetitions to getting the test statistic\n",
    "    for _ in range(100):\n",
    "        #shuffle \n",
    "        shuffled = shuffle(data, col)\n",
    "        #get mean\n",
    "        mean = shuffled.groupby('is_null')[col].mean().diff().abs().iloc[-1]\n",
    "        \n",
    "        #append to list\n",
    "        means.append(mean)\n",
    "        \n",
    "    #calculate p-value\n",
    "    pval = np.mean(means > observed)\n",
    "    #show results\n",
    "    print(col + \" p-value: \" +str(pval))\n"
   ]
  },
  {
   "cell_type": "code",
   "execution_count": null,
   "metadata": {
    "collapsed": true
   },
   "outputs": [],
   "source": []
  },
  {
   "cell_type": "code",
   "execution_count": null,
   "metadata": {
    "collapsed": true
   },
   "outputs": [],
   "source": []
  },
  {
   "cell_type": "markdown",
   "metadata": {},
   "source": [
    "### Hypothesis Test\n",
    "---"
   ]
  },
  {
   "cell_type": "code",
   "execution_count": 114,
   "metadata": {},
   "outputs": [
    {
     "name": "stdout",
     "output_type": "stream",
     "text": [
      "p-value: 0.984\n"
     ]
    }
   ],
   "source": [
    "#list to hold point differentials\n",
    "diffs = []\n",
    "\n",
    "data['PPG_reg_season'] = data['PTS_reg_season'] / data['G_reg_season']\n",
    "\n",
    "#repeat procedure 500 times\n",
    "for _ in range(500):\n",
    "\n",
    "    east_ppg = data.loc[data['Conf'] == 'EAST', 'PPG_reg_season'].sample(n=15, replace = False).mean()\n",
    "    west_ppg = data.loc[data['Conf'] == 'WEST', 'PPG_reg_season'].sample(n=15, replace = False).mean()\n",
    "    \n",
    "    curr_diff = abs(west_ppg - east_ppg)\n",
    "    diffs.append(curr_diff)\n",
    "\n",
    "obs = abs(data.loc[data['Conf'] == 'WEST']['PPG_reg_season'].mean() - data.loc[data['Conf'] == 'EAST']['PPG_reg_season'].mean())\n",
    "    \n",
    "pval = np.mean(np.array(diffs) > obs)\n",
    "print(\"p-value: \" + str(pval))\n"
   ]
  },
  {
   "cell_type": "code",
   "execution_count": 119,
   "metadata": {},
   "outputs": [
    {
     "name": "stdout",
     "output_type": "stream",
     "text": [
      "p-value: 0.902\n"
     ]
    }
   ],
   "source": [
    "#list to hold point differentials\n",
    "diffs = []\n",
    "\n",
    "data['PPG_playoff'] = data['PTS_playoff'] / data['G_playoff']\n",
    "\n",
    "#repeat procedure 500 times\n",
    "for _ in range(500):\n",
    "\n",
    "    east_ppg = data.loc[data['Conf'] == 'EAST', 'PPG_playoff'].dropna().sample(n=15, replace = False).mean()\n",
    "    west_ppg = data.loc[data['Conf'] == 'WEST', 'PPG_playoff'].dropna().sample(n=15, replace = False).mean()\n",
    "    \n",
    "    curr_diff = abs(west_ppg - east_ppg)\n",
    "    diffs.append(curr_diff)\n",
    "\n",
    "obs = abs(data.loc[data['Conf'] == 'WEST']['PPG_playoff'].mean() - data.loc[data['Conf'] == 'EAST']['PPG_playoff'].mean())\n",
    "    \n",
    "pval = np.mean(np.array(diffs) > obs)\n",
    "print(\"p-value: \" + str(pval))"
   ]
  },
  {
   "cell_type": "code",
   "execution_count": null,
   "metadata": {
    "collapsed": true
   },
   "outputs": [],
   "source": []
  },
  {
   "cell_type": "code",
   "execution_count": null,
   "metadata": {
    "collapsed": true
   },
   "outputs": [],
   "source": []
  },
  {
   "cell_type": "code",
   "execution_count": null,
   "metadata": {
    "collapsed": true
   },
   "outputs": [],
   "source": []
  },
  {
   "cell_type": "code",
   "execution_count": null,
   "metadata": {
    "collapsed": true
   },
   "outputs": [],
   "source": []
  },
  {
   "cell_type": "code",
   "execution_count": null,
   "metadata": {
    "collapsed": true
   },
   "outputs": [],
   "source": []
  }
 ],
 "metadata": {
  "kernelspec": {
   "display_name": "Python 3",
   "language": "python",
   "name": "python3"
  },
  "language_info": {
   "codemirror_mode": {
    "name": "ipython",
    "version": 3
   },
   "file_extension": ".py",
   "mimetype": "text/x-python",
   "name": "python",
   "nbconvert_exporter": "python",
   "pygments_lexer": "ipython3",
   "version": "3.6.3"
  }
 },
 "nbformat": 4,
 "nbformat_minor": 2
}
